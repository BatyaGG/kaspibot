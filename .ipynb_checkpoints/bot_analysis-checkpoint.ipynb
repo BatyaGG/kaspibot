{
 "cells": [
  {
   "cell_type": "code",
   "execution_count": 35,
   "id": "144fb69c",
   "metadata": {},
   "outputs": [],
   "source": [
    "import pandas as pd\n",
    "from datetime import datetime"
   ]
  },
  {
   "cell_type": "code",
   "execution_count": 19,
   "id": "265c05d9",
   "metadata": {},
   "outputs": [],
   "source": [
    "df = pd.read_csv('Customer_data/Eldo_case.csv', delimiter=';')"
   ]
  },
  {
   "cell_type": "code",
   "execution_count": 20,
   "id": "d9fd1822",
   "metadata": {},
   "outputs": [
    {
     "data": {
      "text/plain": [
       "Index(['Login', 'No заказа', 'Дата поступления заказа',\n",
       "       'Название товара в Kaspi Магазине', 'Название в системе продавца',\n",
       "       'Артикул', 'Сумма', 'Категория', 'Адрес самовывоза/доставки',\n",
       "       'Дата изменения статуса', 'Статус', 'Причина отмены', 'Способ оплаты',\n",
       "       'Способ доставки', 'Курьерская служба', 'Принял', 'Выдал', 'Отменил',\n",
       "       'Оценка покупателя', 'Отзыв покупателя', 'Дата публикации отзыва',\n",
       "       'Оформил', 'Количество', 'Стоимость доставки для покупателя',\n",
       "       'Стоимость доставки для продавца', 'Компенсация за доставку',\n",
       "       'Требуется подписание', 'Unnamed: 27', 'Unnamed: 28'],\n",
       "      dtype='object')"
      ]
     },
     "execution_count": 20,
     "metadata": {},
     "output_type": "execute_result"
    }
   ],
   "source": [
    "df.columns"
   ]
  },
  {
   "cell_type": "code",
   "execution_count": 22,
   "id": "ce5d5e04",
   "metadata": {},
   "outputs": [],
   "source": [
    "df['Дата поступления заказа'] = pd.to_datetime(df['Дата поступления заказа'], format='%d.%m.%Y')"
   ]
  },
  {
   "cell_type": "code",
   "execution_count": 23,
   "id": "4473079e",
   "metadata": {},
   "outputs": [
    {
     "data": {
      "text/plain": [
       "Выдан                              650\n",
       "Отменен                            638\n",
       "Возврат                              6\n",
       "Ожидает возврата каспи доставки      2\n",
       "Name: Статус, dtype: int64"
      ]
     },
     "execution_count": 23,
     "metadata": {},
     "output_type": "execute_result"
    }
   ],
   "source": [
    "df['Статус'].value_counts()"
   ]
  },
  {
   "cell_type": "code",
   "execution_count": 24,
   "id": "510da0b0",
   "metadata": {},
   "outputs": [],
   "source": [
    "df_sold = df[df['Статус']=='Выдан']"
   ]
  },
  {
   "cell_type": "code",
   "execution_count": 25,
   "id": "3e12a701",
   "metadata": {},
   "outputs": [
    {
     "name": "stderr",
     "output_type": "stream",
     "text": [
      "/Users/batyagg/opt/anaconda3/lib/python3.9/site-packages/pandas/util/_decorators.py:311: SettingWithCopyWarning: \n",
      "A value is trying to be set on a copy of a slice from a DataFrame\n",
      "\n",
      "See the caveats in the documentation: https://pandas.pydata.org/pandas-docs/stable/user_guide/indexing.html#returning-a-view-versus-a-copy\n",
      "  return func(*args, **kwargs)\n"
     ]
    }
   ],
   "source": [
    "df_sold.sort_values(by=['Дата поступления заказа'], inplace=True)"
   ]
  },
  {
   "cell_type": "code",
   "execution_count": 30,
   "id": "7f71d234",
   "metadata": {},
   "outputs": [
    {
     "data": {
      "text/plain": [
       "datetime.date(2022, 6, 1)"
      ]
     },
     "execution_count": 30,
     "metadata": {},
     "output_type": "execute_result"
    }
   ],
   "source": [
    "date(2022, 6, 1)"
   ]
  },
  {
   "cell_type": "code",
   "execution_count": 38,
   "id": "1daadf4e",
   "metadata": {},
   "outputs": [],
   "source": [
    "df_sold = df_sold[datetime(2022, 6, 1) <= df_sold['Дата поступления заказа']]\n",
    "df_sold = df_sold[datetime(2022, 9, 1) >= df_sold['Дата поступления заказа']]"
   ]
  },
  {
   "cell_type": "code",
   "execution_count": 42,
   "id": "7e01ea25",
   "metadata": {},
   "outputs": [
    {
     "data": {
      "text/html": [
       "<div>\n",
       "<style scoped>\n",
       "    .dataframe tbody tr th:only-of-type {\n",
       "        vertical-align: middle;\n",
       "    }\n",
       "\n",
       "    .dataframe tbody tr th {\n",
       "        vertical-align: top;\n",
       "    }\n",
       "\n",
       "    .dataframe thead th {\n",
       "        text-align: right;\n",
       "    }\n",
       "</style>\n",
       "<table border=\"1\" class=\"dataframe\">\n",
       "  <thead>\n",
       "    <tr style=\"text-align: right;\">\n",
       "      <th></th>\n",
       "      <th>No заказа</th>\n",
       "      <th>Сумма</th>\n",
       "      <th>Оформил</th>\n",
       "      <th>Количество</th>\n",
       "      <th>Стоимость доставки для покупателя</th>\n",
       "      <th>Стоимость доставки для продавца</th>\n",
       "      <th>Компенсация за доставку</th>\n",
       "      <th>Требуется подписание</th>\n",
       "    </tr>\n",
       "    <tr>\n",
       "      <th>Дата поступления заказа</th>\n",
       "      <th></th>\n",
       "      <th></th>\n",
       "      <th></th>\n",
       "      <th></th>\n",
       "      <th></th>\n",
       "      <th></th>\n",
       "      <th></th>\n",
       "      <th></th>\n",
       "    </tr>\n",
       "  </thead>\n",
       "  <tbody>\n",
       "    <tr>\n",
       "      <th>2022-06-30</th>\n",
       "      <td>47536210329</td>\n",
       "      <td>42191157</td>\n",
       "      <td>0.0</td>\n",
       "      <td>246</td>\n",
       "      <td>5000.0</td>\n",
       "      <td>262011.0</td>\n",
       "      <td>0.0</td>\n",
       "      <td>0.0</td>\n",
       "    </tr>\n",
       "    <tr>\n",
       "      <th>2022-07-31</th>\n",
       "      <td>33331302107</td>\n",
       "      <td>43560129</td>\n",
       "      <td>0.0</td>\n",
       "      <td>169</td>\n",
       "      <td>4000.0</td>\n",
       "      <td>0.0</td>\n",
       "      <td>0.0</td>\n",
       "      <td>0.0</td>\n",
       "    </tr>\n",
       "    <tr>\n",
       "      <th>2022-08-31</th>\n",
       "      <td>34452430076</td>\n",
       "      <td>13037020</td>\n",
       "      <td>0.0</td>\n",
       "      <td>165</td>\n",
       "      <td>4000.0</td>\n",
       "      <td>0.0</td>\n",
       "      <td>0.0</td>\n",
       "      <td>0.0</td>\n",
       "    </tr>\n",
       "    <tr>\n",
       "      <th>2022-09-30</th>\n",
       "      <td>1500506000</td>\n",
       "      <td>1171227</td>\n",
       "      <td>0.0</td>\n",
       "      <td>7</td>\n",
       "      <td>0.0</td>\n",
       "      <td>0.0</td>\n",
       "      <td>0.0</td>\n",
       "      <td>0.0</td>\n",
       "    </tr>\n",
       "  </tbody>\n",
       "</table>\n",
       "</div>"
      ],
      "text/plain": [
       "                           No заказа     Сумма  Оформил  Количество  \\\n",
       "Дата поступления заказа                                               \n",
       "2022-06-30               47536210329  42191157      0.0         246   \n",
       "2022-07-31               33331302107  43560129      0.0         169   \n",
       "2022-08-31               34452430076  13037020      0.0         165   \n",
       "2022-09-30                1500506000   1171227      0.0           7   \n",
       "\n",
       "                         Стоимость доставки для покупателя  \\\n",
       "Дата поступления заказа                                      \n",
       "2022-06-30                                          5000.0   \n",
       "2022-07-31                                          4000.0   \n",
       "2022-08-31                                          4000.0   \n",
       "2022-09-30                                             0.0   \n",
       "\n",
       "                         Стоимость доставки для продавца  \\\n",
       "Дата поступления заказа                                    \n",
       "2022-06-30                                      262011.0   \n",
       "2022-07-31                                           0.0   \n",
       "2022-08-31                                           0.0   \n",
       "2022-09-30                                           0.0   \n",
       "\n",
       "                         Компенсация за доставку  Требуется подписание  \n",
       "Дата поступления заказа                                                 \n",
       "2022-06-30                                   0.0                   0.0  \n",
       "2022-07-31                                   0.0                   0.0  \n",
       "2022-08-31                                   0.0                   0.0  \n",
       "2022-09-30                                   0.0                   0.0  "
      ]
     },
     "execution_count": 42,
     "metadata": {},
     "output_type": "execute_result"
    }
   ],
   "source": [
    "df_sold.groupby(pd.Grouper(key='Дата поступления заказа', freq='M')).sum()"
   ]
  },
  {
   "cell_type": "code",
   "execution_count": null,
   "id": "8e8317bc",
   "metadata": {},
   "outputs": [],
   "source": []
  },
  {
   "cell_type": "code",
   "execution_count": 49,
   "id": "c6571421",
   "metadata": {},
   "outputs": [],
   "source": [
    "cnts = df.groupby(pd.Grouper(key='Дата поступления заказа', freq='D')).count()['Login']"
   ]
  },
  {
   "cell_type": "code",
   "execution_count": null,
   "id": "77b59908",
   "metadata": {},
   "outputs": [],
   "source": []
  }
 ],
 "metadata": {
  "kernelspec": {
   "display_name": "Python 3 (ipykernel)",
   "language": "python",
   "name": "python3"
  },
  "language_info": {
   "codemirror_mode": {
    "name": "ipython",
    "version": 3
   },
   "file_extension": ".py",
   "mimetype": "text/x-python",
   "name": "python",
   "nbconvert_exporter": "python",
   "pygments_lexer": "ipython3",
   "version": "3.9.7"
  },
  "toc": {
   "base_numbering": 1,
   "nav_menu": {},
   "number_sections": true,
   "sideBar": true,
   "skip_h1_title": false,
   "title_cell": "Table of Contents",
   "title_sidebar": "Contents",
   "toc_cell": false,
   "toc_position": {},
   "toc_section_display": true,
   "toc_window_display": false
  }
 },
 "nbformat": 4,
 "nbformat_minor": 5
}
