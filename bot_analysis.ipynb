{
 "cells": [
  {
   "cell_type": "code",
   "execution_count": 1,
   "id": "ed3d47e7",
   "metadata": {},
   "outputs": [],
   "source": [
    "import pandas as pd\n",
    "from datetime import datetime\n",
    "from matplotlib import pyplot as plt"
   ]
  },
  {
   "cell_type": "code",
   "execution_count": 2,
   "id": "7cecffc6",
   "metadata": {},
   "outputs": [],
   "source": [
    "df = pd.read_csv('Customer_data/Eldo_case.csv', delimiter=';')"
   ]
  },
  {
   "cell_type": "code",
   "execution_count": 20,
   "id": "2e324d95",
   "metadata": {},
   "outputs": [
    {
     "data": {
      "text/plain": [
       "Index(['Login', 'No заказа', 'Дата поступления заказа',\n",
       "       'Название товара в Kaspi Магазине', 'Название в системе продавца',\n",
       "       'Артикул', 'Сумма', 'Категория', 'Адрес самовывоза/доставки',\n",
       "       'Дата изменения статуса', 'Статус', 'Причина отмены', 'Способ оплаты',\n",
       "       'Способ доставки', 'Курьерская служба', 'Принял', 'Выдал', 'Отменил',\n",
       "       'Оценка покупателя', 'Отзыв покупателя', 'Дата публикации отзыва',\n",
       "       'Оформил', 'Количество', 'Стоимость доставки для покупателя',\n",
       "       'Стоимость доставки для продавца', 'Компенсация за доставку',\n",
       "       'Требуется подписание', 'Unnamed: 27', 'Unnamed: 28'],\n",
       "      dtype='object')"
      ]
     },
     "execution_count": 20,
     "metadata": {},
     "output_type": "execute_result"
    }
   ],
   "source": [
    "df.columns"
   ]
  },
  {
   "cell_type": "code",
   "execution_count": 3,
   "id": "8b18a2d5",
   "metadata": {},
   "outputs": [],
   "source": [
    "df['Дата поступления заказа'] = pd.to_datetime(df['Дата поступления заказа'], format='%d.%m.%Y')"
   ]
  },
  {
   "cell_type": "code",
   "execution_count": 23,
   "id": "0247b8e0",
   "metadata": {},
   "outputs": [
    {
     "data": {
      "text/plain": [
       "Выдан                              650\n",
       "Отменен                            638\n",
       "Возврат                              6\n",
       "Ожидает возврата каспи доставки      2\n",
       "Name: Статус, dtype: int64"
      ]
     },
     "execution_count": 23,
     "metadata": {},
     "output_type": "execute_result"
    }
   ],
   "source": [
    "df['Статус'].value_counts()"
   ]
  },
  {
   "cell_type": "code",
   "execution_count": 4,
   "id": "7e0f3586",
   "metadata": {},
   "outputs": [],
   "source": [
    "df_sold = df[df['Статус']=='Выдан']"
   ]
  },
  {
   "cell_type": "code",
   "execution_count": 5,
   "id": "61458872",
   "metadata": {},
   "outputs": [
    {
     "name": "stderr",
     "output_type": "stream",
     "text": [
      "/Users/batyagg/opt/anaconda3/lib/python3.9/site-packages/pandas/util/_decorators.py:311: SettingWithCopyWarning: \n",
      "A value is trying to be set on a copy of a slice from a DataFrame\n",
      "\n",
      "See the caveats in the documentation: https://pandas.pydata.org/pandas-docs/stable/user_guide/indexing.html#returning-a-view-versus-a-copy\n",
      "  return func(*args, **kwargs)\n"
     ]
    }
   ],
   "source": [
    "df_sold.sort_values(by=['Дата поступления заказа'], inplace=True)"
   ]
  },
  {
   "cell_type": "code",
   "execution_count": 30,
   "id": "2d54daf7",
   "metadata": {},
   "outputs": [
    {
     "data": {
      "text/plain": [
       "datetime.date(2022, 6, 1)"
      ]
     },
     "execution_count": 30,
     "metadata": {},
     "output_type": "execute_result"
    }
   ],
   "source": [
    "date(2022, 6, 1)"
   ]
  },
  {
   "cell_type": "code",
   "execution_count": 14,
   "id": "22db1934",
   "metadata": {},
   "outputs": [],
   "source": [
    "df_sold = df_sold[datetime(2022, 6, 1) <= df_sold['Дата поступления заказа']]\n",
    "df_sold = df_sold[datetime(2022, 9, 1) >= df_sold['Дата поступления заказа']]"
   ]
  },
  {
   "cell_type": "code",
   "execution_count": 7,
   "id": "d0626644",
   "metadata": {},
   "outputs": [
    {
     "data": {
      "text/html": [
       "<div>\n",
       "<style scoped>\n",
       "    .dataframe tbody tr th:only-of-type {\n",
       "        vertical-align: middle;\n",
       "    }\n",
       "\n",
       "    .dataframe tbody tr th {\n",
       "        vertical-align: top;\n",
       "    }\n",
       "\n",
       "    .dataframe thead th {\n",
       "        text-align: right;\n",
       "    }\n",
       "</style>\n",
       "<table border=\"1\" class=\"dataframe\">\n",
       "  <thead>\n",
       "    <tr style=\"text-align: right;\">\n",
       "      <th></th>\n",
       "      <th>No заказа</th>\n",
       "      <th>Сумма</th>\n",
       "      <th>Оформил</th>\n",
       "      <th>Количество</th>\n",
       "      <th>Стоимость доставки для покупателя</th>\n",
       "      <th>Стоимость доставки для продавца</th>\n",
       "      <th>Компенсация за доставку</th>\n",
       "      <th>Требуется подписание</th>\n",
       "    </tr>\n",
       "    <tr>\n",
       "      <th>Дата поступления заказа</th>\n",
       "      <th></th>\n",
       "      <th></th>\n",
       "      <th></th>\n",
       "      <th></th>\n",
       "      <th></th>\n",
       "      <th></th>\n",
       "      <th></th>\n",
       "      <th></th>\n",
       "    </tr>\n",
       "  </thead>\n",
       "  <tbody>\n",
       "    <tr>\n",
       "      <th>2022-06-30</th>\n",
       "      <td>47536210329</td>\n",
       "      <td>42191157</td>\n",
       "      <td>0.0</td>\n",
       "      <td>246</td>\n",
       "      <td>5000.0</td>\n",
       "      <td>262011.0</td>\n",
       "      <td>0.0</td>\n",
       "      <td>0.0</td>\n",
       "    </tr>\n",
       "    <tr>\n",
       "      <th>2022-07-31</th>\n",
       "      <td>33331302107</td>\n",
       "      <td>43560129</td>\n",
       "      <td>0.0</td>\n",
       "      <td>169</td>\n",
       "      <td>4000.0</td>\n",
       "      <td>0.0</td>\n",
       "      <td>0.0</td>\n",
       "      <td>0.0</td>\n",
       "    </tr>\n",
       "    <tr>\n",
       "      <th>2022-08-31</th>\n",
       "      <td>34452430076</td>\n",
       "      <td>13037020</td>\n",
       "      <td>0.0</td>\n",
       "      <td>165</td>\n",
       "      <td>4000.0</td>\n",
       "      <td>0.0</td>\n",
       "      <td>0.0</td>\n",
       "      <td>0.0</td>\n",
       "    </tr>\n",
       "    <tr>\n",
       "      <th>2022-09-30</th>\n",
       "      <td>1500506000</td>\n",
       "      <td>1171227</td>\n",
       "      <td>0.0</td>\n",
       "      <td>7</td>\n",
       "      <td>0.0</td>\n",
       "      <td>0.0</td>\n",
       "      <td>0.0</td>\n",
       "      <td>0.0</td>\n",
       "    </tr>\n",
       "  </tbody>\n",
       "</table>\n",
       "</div>"
      ],
      "text/plain": [
       "                           No заказа     Сумма  Оформил  Количество  \\\n",
       "Дата поступления заказа                                               \n",
       "2022-06-30               47536210329  42191157      0.0         246   \n",
       "2022-07-31               33331302107  43560129      0.0         169   \n",
       "2022-08-31               34452430076  13037020      0.0         165   \n",
       "2022-09-30                1500506000   1171227      0.0           7   \n",
       "\n",
       "                         Стоимость доставки для покупателя  \\\n",
       "Дата поступления заказа                                      \n",
       "2022-06-30                                          5000.0   \n",
       "2022-07-31                                          4000.0   \n",
       "2022-08-31                                          4000.0   \n",
       "2022-09-30                                             0.0   \n",
       "\n",
       "                         Стоимость доставки для продавца  \\\n",
       "Дата поступления заказа                                    \n",
       "2022-06-30                                      262011.0   \n",
       "2022-07-31                                           0.0   \n",
       "2022-08-31                                           0.0   \n",
       "2022-09-30                                           0.0   \n",
       "\n",
       "                         Компенсация за доставку  Требуется подписание  \n",
       "Дата поступления заказа                                                 \n",
       "2022-06-30                                   0.0                   0.0  \n",
       "2022-07-31                                   0.0                   0.0  \n",
       "2022-08-31                                   0.0                   0.0  \n",
       "2022-09-30                                   0.0                   0.0  "
      ]
     },
     "execution_count": 7,
     "metadata": {},
     "output_type": "execute_result"
    }
   ],
   "source": [
    "df_sold.groupby(pd.Grouper(key='Дата поступления заказа', freq='M')).sum()"
   ]
  },
  {
   "cell_type": "code",
   "execution_count": 49,
   "id": "ab0754b7",
   "metadata": {},
   "outputs": [],
   "source": [
    "cnts = df.groupby(pd.Grouper(key='Дата поступления заказа', freq='D')).count()['Login']"
   ]
  },
  {
   "cell_type": "code",
   "execution_count": 54,
   "id": "b52ff9c9",
   "metadata": {},
   "outputs": [],
   "source": [
    "cnts = cnts.sort_values()"
   ]
  },
  {
   "cell_type": "code",
   "execution_count": 56,
   "id": "a8b52de8",
   "metadata": {},
   "outputs": [
    {
     "data": {
      "text/plain": [
       "0     11\n",
       "3      9\n",
       "5      6\n",
       "9      6\n",
       "7      5\n",
       "8      5\n",
       "13     5\n",
       "17     5\n",
       "2      4\n",
       "6      4\n",
       "12     4\n",
       "15     4\n",
       "1      3\n",
       "29     3\n",
       "27     3\n",
       "24     3\n",
       "16     3\n",
       "14     3\n",
       "11     3\n",
       "10     3\n",
       "22     2\n",
       "25     2\n",
       "4      2\n",
       "34     2\n",
       "18     1\n",
       "19     1\n",
       "20     1\n",
       "21     1\n",
       "23     1\n",
       "30     1\n",
       "32     1\n",
       "40     1\n",
       "51     1\n",
       "Name: Login, dtype: int64"
      ]
     },
     "execution_count": 56,
     "metadata": {},
     "output_type": "execute_result"
    }
   ],
   "source": [
    "cnts.value_counts()"
   ]
  },
  {
   "cell_type": "code",
   "execution_count": 59,
   "id": "86840987",
   "metadata": {},
   "outputs": [],
   "source": [
    "hist_data = pd.DataFrame({'order_num': cnts, 'with_bot': [True if c > 15 else False for c in cnts]})"
   ]
  },
  {
   "cell_type": "code",
   "execution_count": 66,
   "id": "b24249cf",
   "metadata": {},
   "outputs": [
    {
     "data": {
      "text/html": [
       "<div>\n",
       "<style scoped>\n",
       "    .dataframe tbody tr th:only-of-type {\n",
       "        vertical-align: middle;\n",
       "    }\n",
       "\n",
       "    .dataframe tbody tr th {\n",
       "        vertical-align: top;\n",
       "    }\n",
       "\n",
       "    .dataframe thead th {\n",
       "        text-align: right;\n",
       "    }\n",
       "</style>\n",
       "<table border=\"1\" class=\"dataframe\">\n",
       "  <thead>\n",
       "    <tr style=\"text-align: right;\">\n",
       "      <th></th>\n",
       "      <th>order_num</th>\n",
       "      <th>with_bot</th>\n",
       "    </tr>\n",
       "    <tr>\n",
       "      <th>Дата поступления заказа</th>\n",
       "      <th></th>\n",
       "      <th></th>\n",
       "    </tr>\n",
       "  </thead>\n",
       "  <tbody>\n",
       "    <tr>\n",
       "      <th>2022-07-25</th>\n",
       "      <td>1</td>\n",
       "      <td>False</td>\n",
       "    </tr>\n",
       "    <tr>\n",
       "      <th>2022-08-01</th>\n",
       "      <td>1</td>\n",
       "      <td>False</td>\n",
       "    </tr>\n",
       "    <tr>\n",
       "      <th>2022-08-06</th>\n",
       "      <td>1</td>\n",
       "      <td>False</td>\n",
       "    </tr>\n",
       "    <tr>\n",
       "      <th>2022-08-05</th>\n",
       "      <td>2</td>\n",
       "      <td>False</td>\n",
       "    </tr>\n",
       "    <tr>\n",
       "      <th>2022-05-23</th>\n",
       "      <td>2</td>\n",
       "      <td>False</td>\n",
       "    </tr>\n",
       "    <tr>\n",
       "      <th>...</th>\n",
       "      <td>...</td>\n",
       "      <td>...</td>\n",
       "    </tr>\n",
       "    <tr>\n",
       "      <th>2022-06-13</th>\n",
       "      <td>32</td>\n",
       "      <td>True</td>\n",
       "    </tr>\n",
       "    <tr>\n",
       "      <th>2022-08-19</th>\n",
       "      <td>34</td>\n",
       "      <td>True</td>\n",
       "    </tr>\n",
       "    <tr>\n",
       "      <th>2022-05-28</th>\n",
       "      <td>34</td>\n",
       "      <td>True</td>\n",
       "    </tr>\n",
       "    <tr>\n",
       "      <th>2022-07-15</th>\n",
       "      <td>40</td>\n",
       "      <td>True</td>\n",
       "    </tr>\n",
       "    <tr>\n",
       "      <th>2022-07-17</th>\n",
       "      <td>51</td>\n",
       "      <td>True</td>\n",
       "    </tr>\n",
       "  </tbody>\n",
       "</table>\n",
       "<p>98 rows × 2 columns</p>\n",
       "</div>"
      ],
      "text/plain": [
       "                         order_num  with_bot\n",
       "Дата поступления заказа                     \n",
       "2022-07-25                       1     False\n",
       "2022-08-01                       1     False\n",
       "2022-08-06                       1     False\n",
       "2022-08-05                       2     False\n",
       "2022-05-23                       2     False\n",
       "...                            ...       ...\n",
       "2022-06-13                      32      True\n",
       "2022-08-19                      34      True\n",
       "2022-05-28                      34      True\n",
       "2022-07-15                      40      True\n",
       "2022-07-17                      51      True\n",
       "\n",
       "[98 rows x 2 columns]"
      ]
     },
     "execution_count": 66,
     "metadata": {},
     "output_type": "execute_result"
    }
   ],
   "source": [
    "hist_data"
   ]
  },
  {
   "cell_type": "code",
   "execution_count": 67,
   "id": "d465457f",
   "metadata": {},
   "outputs": [],
   "source": [
    "hist_data = hist_data[hist_data.order_num > 2]"
   ]
  },
  {
   "cell_type": "code",
   "execution_count": 68,
   "id": "2485b105",
   "metadata": {},
   "outputs": [],
   "source": [
    "import seaborn as sns"
   ]
  },
  {
   "cell_type": "code",
   "execution_count": 80,
   "id": "207e410a",
   "metadata": {},
   "outputs": [
    {
     "data": {
      "text/plain": [
       "<AxesSubplot:title={'center':'Кол-во заказов в день'}, xlabel='order_num', ylabel='Probability'>"
      ]
     },
     "execution_count": 80,
     "metadata": {},
     "output_type": "execute_result"
    },
    {
     "data": {
      "image/png": "[encoded data removed]",
      "text/plain": [
       "<Figure size 864x648 with 1 Axes>"
      ]
     },
     "metadata": {
      "needs_background": "light"
     },
     "output_type": "display_data"
    }
   ],
   "source": [
    "fig, ax = plt.subplots(1, 1, figsize=(12, 9))\n",
    "ax.set_title('Кол-во заказов в день')\n",
    "sns.histplot(hist_data, x='order_num', hue='with_bot', stat='probability')"
   ]
  },
  {
   "cell_type": "code",
   "execution_count": 8,
   "id": "447a421a",
   "metadata": {},
   "outputs": [
    {
     "data": {
      "text/html": [
       "<div>\n",
       "<style scoped>\n",
       "    .dataframe tbody tr th:only-of-type {\n",
       "        vertical-align: middle;\n",
       "    }\n",
       "\n",
       "    .dataframe tbody tr th {\n",
       "        vertical-align: top;\n",
       "    }\n",
       "\n",
       "    .dataframe thead th {\n",
       "        text-align: right;\n",
       "    }\n",
       "</style>\n",
       "<table border=\"1\" class=\"dataframe\">\n",
       "  <thead>\n",
       "    <tr style=\"text-align: right;\">\n",
       "      <th></th>\n",
       "      <th>Login</th>\n",
       "      <th>No заказа</th>\n",
       "      <th>Дата поступления заказа</th>\n",
       "      <th>Название товара в Kaspi Магазине</th>\n",
       "      <th>Название в системе продавца</th>\n",
       "      <th>Артикул</th>\n",
       "      <th>Сумма</th>\n",
       "      <th>Категория</th>\n",
       "      <th>Адрес самовывоза/доставки</th>\n",
       "      <th>Дата изменения статуса</th>\n",
       "      <th>...</th>\n",
       "      <th>Отзыв покупателя</th>\n",
       "      <th>Дата публикации отзыва</th>\n",
       "      <th>Оформил</th>\n",
       "      <th>Количество</th>\n",
       "      <th>Стоимость доставки для покупателя</th>\n",
       "      <th>Стоимость доставки для продавца</th>\n",
       "      <th>Компенсация за доставку</th>\n",
       "      <th>Требуется подписание</th>\n",
       "      <th>Unnamed: 27</th>\n",
       "      <th>Unnamed: 28</th>\n",
       "    </tr>\n",
       "  </thead>\n",
       "  <tbody>\n",
       "    <tr>\n",
       "      <th>1059</th>\n",
       "      <td>lucky_erik@mail.ru</td>\n",
       "      <td>202399397</td>\n",
       "      <td>2022-06-01</td>\n",
       "      <td>ALMACOM ACH-12I белый + монтажный комплект</td>\n",
       "      <td>almacom ACH-12I белый + монтажный комплект</td>\n",
       "      <td>4200748_12627024</td>\n",
       "      <td>243490</td>\n",
       "      <td>Кондиционеры</td>\n",
       "      <td>Нур-Султан, проспект Улы Дала, 23, 76</td>\n",
       "      <td>04.06.2022</td>\n",
       "      <td>...</td>\n",
       "      <td>Без отзыва</td>\n",
       "      <td>NaN</td>\n",
       "      <td>NaN</td>\n",
       "      <td>1</td>\n",
       "      <td>0.0</td>\n",
       "      <td>3919.0</td>\n",
       "      <td>NaN</td>\n",
       "      <td>NaN</td>\n",
       "      <td>03.06.2022</td>\n",
       "      <td>12627024_177</td>\n",
       "    </tr>\n",
       "    <tr>\n",
       "      <th>1060</th>\n",
       "      <td>lucky_erik@mail.ru</td>\n",
       "      <td>202464584</td>\n",
       "      <td>2022-06-01</td>\n",
       "      <td>ALMACOM ACH-12AF белый + монтажный комплект</td>\n",
       "      <td>almacom ACH-12AF белый + монтажный комплект</td>\n",
       "      <td>4200714_12627024</td>\n",
       "      <td>173361</td>\n",
       "      <td>Кондиционеры</td>\n",
       "      <td>Шымкент, микрорайон Северо-Запад, 1861,</td>\n",
       "      <td>04.06.2022</td>\n",
       "      <td>...</td>\n",
       "      <td>Без отзыва</td>\n",
       "      <td>NaN</td>\n",
       "      <td>NaN</td>\n",
       "      <td>1</td>\n",
       "      <td>0.0</td>\n",
       "      <td>3919.0</td>\n",
       "      <td>NaN</td>\n",
       "      <td>NaN</td>\n",
       "      <td>03.06.2022</td>\n",
       "      <td>12627024_177</td>\n",
       "    </tr>\n",
       "    <tr>\n",
       "      <th>1000</th>\n",
       "      <td>lucky_erik@mail.ru</td>\n",
       "      <td>202404712</td>\n",
       "      <td>2022-06-01</td>\n",
       "      <td>Artel Apetito 50 10-E белый</td>\n",
       "      <td>Artel Apetito 50 10-E белый</td>\n",
       "      <td>100347321_12627024</td>\n",
       "      <td>73716</td>\n",
       "      <td>Кухонные плиты</td>\n",
       "      <td>Алматы, проспект Гагарина, 236Б, Авто блеск</td>\n",
       "      <td>02.06.2022</td>\n",
       "      <td>...</td>\n",
       "      <td>Без отзыва</td>\n",
       "      <td>NaN</td>\n",
       "      <td>NaN</td>\n",
       "      <td>1</td>\n",
       "      <td>0.0</td>\n",
       "      <td>0.0</td>\n",
       "      <td>0.0</td>\n",
       "      <td>NaN</td>\n",
       "      <td>NaN</td>\n",
       "      <td>NaN</td>\n",
       "    </tr>\n",
       "    <tr>\n",
       "      <th>1270</th>\n",
       "      <td>lucky_erik@mail.ru</td>\n",
       "      <td>202478267</td>\n",
       "      <td>2022-06-01</td>\n",
       "      <td>ALMACOM ACH-18AS белый + медная инсталляция</td>\n",
       "      <td>almacom ACH-18AS белый + медная инсталляция</td>\n",
       "      <td>4201139_12627024</td>\n",
       "      <td>253794</td>\n",
       "      <td>Кондиционеры</td>\n",
       "      <td>Атырау, микрорайон Атырау-2, 7-я улица, 23,</td>\n",
       "      <td>08.06.2022</td>\n",
       "      <td>...</td>\n",
       "      <td>Без отзыва</td>\n",
       "      <td>NaN</td>\n",
       "      <td>NaN</td>\n",
       "      <td>1</td>\n",
       "      <td>0.0</td>\n",
       "      <td>3919.0</td>\n",
       "      <td>NaN</td>\n",
       "      <td>NaN</td>\n",
       "      <td>03.06.2022</td>\n",
       "      <td>12627024_177</td>\n",
       "    </tr>\n",
       "    <tr>\n",
       "      <th>1011</th>\n",
       "      <td>lucky_erik@mail.ru</td>\n",
       "      <td>202397208</td>\n",
       "      <td>2022-06-01</td>\n",
       "      <td>ALMACOM ACH-18AS белый + медная инсталляция</td>\n",
       "      <td>almacom ACH-18AS белый + медная инсталляция</td>\n",
       "      <td>4201139_12627024</td>\n",
       "      <td>253838</td>\n",
       "      <td>Кондиционеры</td>\n",
       "      <td>Актау, 26-й микрорайон, 31, 48</td>\n",
       "      <td>08.06.2022</td>\n",
       "      <td>...</td>\n",
       "      <td>Без отзыва</td>\n",
       "      <td>NaN</td>\n",
       "      <td>NaN</td>\n",
       "      <td>1</td>\n",
       "      <td>0.0</td>\n",
       "      <td>3919.0</td>\n",
       "      <td>NaN</td>\n",
       "      <td>NaN</td>\n",
       "      <td>02.06.2022</td>\n",
       "      <td>12627024_177</td>\n",
       "    </tr>\n",
       "    <tr>\n",
       "      <th>...</th>\n",
       "      <td>...</td>\n",
       "      <td>...</td>\n",
       "      <td>...</td>\n",
       "      <td>...</td>\n",
       "      <td>...</td>\n",
       "      <td>...</td>\n",
       "      <td>...</td>\n",
       "      <td>...</td>\n",
       "      <td>...</td>\n",
       "      <td>...</td>\n",
       "      <td>...</td>\n",
       "      <td>...</td>\n",
       "      <td>...</td>\n",
       "      <td>...</td>\n",
       "      <td>...</td>\n",
       "      <td>...</td>\n",
       "      <td>...</td>\n",
       "      <td>...</td>\n",
       "      <td>...</td>\n",
       "      <td>...</td>\n",
       "      <td>...</td>\n",
       "    </tr>\n",
       "    <tr>\n",
       "      <th>319</th>\n",
       "      <td>amangeldieva.nursulu@bk.ru</td>\n",
       "      <td>214355670</td>\n",
       "      <td>2022-09-01</td>\n",
       "      <td>Gree-12 Bora GWH12AAB-K3NNA1A белый</td>\n",
       "      <td>Gree-12 Bora GWH12AAB-K3NNA1A белый</td>\n",
       "      <td>4200978_14699005</td>\n",
       "      <td>167878</td>\n",
       "      <td>Кондиционеры</td>\n",
       "      <td>Костанай, Садовая улица, 100/1, Офис</td>\n",
       "      <td>09.09.2022</td>\n",
       "      <td>...</td>\n",
       "      <td>Без отзыва</td>\n",
       "      <td>NaN</td>\n",
       "      <td>NaN</td>\n",
       "      <td>1</td>\n",
       "      <td>0.0</td>\n",
       "      <td>0.0</td>\n",
       "      <td>NaN</td>\n",
       "      <td>NaN</td>\n",
       "      <td>03.09.2022</td>\n",
       "      <td>14699005_PP1</td>\n",
       "    </tr>\n",
       "    <tr>\n",
       "      <th>205</th>\n",
       "      <td>amangeldieva.nursulu@bk.ru</td>\n",
       "      <td>214318329</td>\n",
       "      <td>2022-09-01</td>\n",
       "      <td>Artel ART-1190 Rapido Touch белый</td>\n",
       "      <td>Artel ART-1190 Rapido Touch белый</td>\n",
       "      <td>101529877_14699005</td>\n",
       "      <td>59418</td>\n",
       "      <td>Вытяжки</td>\n",
       "      <td>Атырау, микрорайон Самал, 23-я улица, 28,</td>\n",
       "      <td>07.09.2022</td>\n",
       "      <td>...</td>\n",
       "      <td>Без отзыва</td>\n",
       "      <td>NaN</td>\n",
       "      <td>NaN</td>\n",
       "      <td>1</td>\n",
       "      <td>0.0</td>\n",
       "      <td>0.0</td>\n",
       "      <td>NaN</td>\n",
       "      <td>NaN</td>\n",
       "      <td>02.09.2022</td>\n",
       "      <td>14699005_PP1</td>\n",
       "    </tr>\n",
       "    <tr>\n",
       "      <th>425</th>\n",
       "      <td>amangeldieva.nursulu@bk.ru</td>\n",
       "      <td>214374468</td>\n",
       "      <td>2022-09-01</td>\n",
       "      <td>Artel HD 345RN Steel серый</td>\n",
       "      <td>Artel HD 345RN Steel серый</td>\n",
       "      <td>100531318_14699005</td>\n",
       "      <td>168988</td>\n",
       "      <td>Холодильники</td>\n",
       "      <td>Уральск, Алия Молдагулова, 24, 41</td>\n",
       "      <td>08.09.2022</td>\n",
       "      <td>...</td>\n",
       "      <td>Без отзыва</td>\n",
       "      <td>NaN</td>\n",
       "      <td>NaN</td>\n",
       "      <td>1</td>\n",
       "      <td>0.0</td>\n",
       "      <td>0.0</td>\n",
       "      <td>NaN</td>\n",
       "      <td>NaN</td>\n",
       "      <td>03.09.2022</td>\n",
       "      <td>14699005_PP1</td>\n",
       "    </tr>\n",
       "    <tr>\n",
       "      <th>152</th>\n",
       "      <td>amangeldieva.nursulu@bk.ru</td>\n",
       "      <td>214340105</td>\n",
       "      <td>2022-09-01</td>\n",
       "      <td>LG AC12BQ.NSJR серый</td>\n",
       "      <td>LG AC12BQ.NSJR серый</td>\n",
       "      <td>100606885_14699005</td>\n",
       "      <td>399988</td>\n",
       "      <td>Кондиционеры</td>\n",
       "      <td>Тараз, переулок Жуанышева, 11,</td>\n",
       "      <td>05.09.2022</td>\n",
       "      <td>...</td>\n",
       "      <td>Без отзыва</td>\n",
       "      <td>NaN</td>\n",
       "      <td>NaN</td>\n",
       "      <td>1</td>\n",
       "      <td>0.0</td>\n",
       "      <td>0.0</td>\n",
       "      <td>NaN</td>\n",
       "      <td>NaN</td>\n",
       "      <td>02.09.2022</td>\n",
       "      <td>14699005_PP1</td>\n",
       "    </tr>\n",
       "    <tr>\n",
       "      <th>46</th>\n",
       "      <td>amangeldieva.nursulu@bk.ru</td>\n",
       "      <td>214369904</td>\n",
       "      <td>2022-09-01</td>\n",
       "      <td>Artel HD 345RN Steel серый</td>\n",
       "      <td>Artel HD 345RN Steel серый</td>\n",
       "      <td>100531318_14699005</td>\n",
       "      <td>168988</td>\n",
       "      <td>Холодильники</td>\n",
       "      <td>Балхаш, Станция Балхаш-1, 22, 3</td>\n",
       "      <td>06.09.2022</td>\n",
       "      <td>...</td>\n",
       "      <td>Без отзыва</td>\n",
       "      <td>NaN</td>\n",
       "      <td>NaN</td>\n",
       "      <td>1</td>\n",
       "      <td>0.0</td>\n",
       "      <td>0.0</td>\n",
       "      <td>NaN</td>\n",
       "      <td>NaN</td>\n",
       "      <td>03.09.2022</td>\n",
       "      <td>14699005_PP1</td>\n",
       "    </tr>\n",
       "  </tbody>\n",
       "</table>\n",
       "<p>562 rows × 29 columns</p>\n",
       "</div>"
      ],
      "text/plain": [
       "                           Login  No заказа Дата поступления заказа  \\\n",
       "1059          lucky_erik@mail.ru  202399397              2022-06-01   \n",
       "1060          lucky_erik@mail.ru  202464584              2022-06-01   \n",
       "1000          lucky_erik@mail.ru  202404712              2022-06-01   \n",
       "1270          lucky_erik@mail.ru  202478267              2022-06-01   \n",
       "1011          lucky_erik@mail.ru  202397208              2022-06-01   \n",
       "...                          ...        ...                     ...   \n",
       "319   amangeldieva.nursulu@bk.ru  214355670              2022-09-01   \n",
       "205   amangeldieva.nursulu@bk.ru  214318329              2022-09-01   \n",
       "425   amangeldieva.nursulu@bk.ru  214374468              2022-09-01   \n",
       "152   amangeldieva.nursulu@bk.ru  214340105              2022-09-01   \n",
       "46    amangeldieva.nursulu@bk.ru  214369904              2022-09-01   \n",
       "\n",
       "                 Название товара в Kaspi Магазине  \\\n",
       "1059   ALMACOM ACH-12I белый + монтажный комплект   \n",
       "1060  ALMACOM ACH-12AF белый + монтажный комплект   \n",
       "1000                  Artel Apetito 50 10-E белый   \n",
       "1270  ALMACOM ACH-18AS белый + медная инсталляция   \n",
       "1011  ALMACOM ACH-18AS белый + медная инсталляция   \n",
       "...                                           ...   \n",
       "319           Gree-12 Bora GWH12AAB-K3NNA1A белый   \n",
       "205             Artel ART-1190 Rapido Touch белый   \n",
       "425                    Artel HD 345RN Steel серый   \n",
       "152                          LG AC12BQ.NSJR серый   \n",
       "46                     Artel HD 345RN Steel серый   \n",
       "\n",
       "                      Название в системе продавца             Артикул   Сумма  \\\n",
       "1059   almacom ACH-12I белый + монтажный комплект    4200748_12627024  243490   \n",
       "1060  almacom ACH-12AF белый + монтажный комплект    4200714_12627024  173361   \n",
       "1000                  Artel Apetito 50 10-E белый  100347321_12627024   73716   \n",
       "1270  almacom ACH-18AS белый + медная инсталляция    4201139_12627024  253794   \n",
       "1011  almacom ACH-18AS белый + медная инсталляция    4201139_12627024  253838   \n",
       "...                                           ...                 ...     ...   \n",
       "319           Gree-12 Bora GWH12AAB-K3NNA1A белый    4200978_14699005  167878   \n",
       "205             Artel ART-1190 Rapido Touch белый  101529877_14699005   59418   \n",
       "425                    Artel HD 345RN Steel серый  100531318_14699005  168988   \n",
       "152                          LG AC12BQ.NSJR серый  100606885_14699005  399988   \n",
       "46                     Artel HD 345RN Steel серый  100531318_14699005  168988   \n",
       "\n",
       "           Категория                     Адрес самовывоза/доставки  \\\n",
       "1059    Кондиционеры         Нур-Султан, проспект Улы Дала, 23, 76   \n",
       "1060    Кондиционеры      Шымкент, микрорайон Северо-Запад, 1861,    \n",
       "1000  Кухонные плиты   Алматы, проспект Гагарина, 236Б, Авто блеск   \n",
       "1270    Кондиционеры  Атырау, микрорайон Атырау-2, 7-я улица, 23,    \n",
       "1011    Кондиционеры                Актау, 26-й микрорайон, 31, 48   \n",
       "...              ...                                           ...   \n",
       "319     Кондиционеры          Костанай, Садовая улица, 100/1, Офис   \n",
       "205          Вытяжки    Атырау, микрорайон Самал, 23-я улица, 28,    \n",
       "425     Холодильники             Уральск, Алия Молдагулова, 24, 41   \n",
       "152     Кондиционеры               Тараз, переулок Жуанышева, 11,    \n",
       "46      Холодильники               Балхаш, Станция Балхаш-1, 22, 3   \n",
       "\n",
       "     Дата изменения статуса  ... Отзыв покупателя Дата публикации отзыва  \\\n",
       "1059             04.06.2022  ...       Без отзыва                    NaN   \n",
       "1060             04.06.2022  ...       Без отзыва                    NaN   \n",
       "1000             02.06.2022  ...       Без отзыва                    NaN   \n",
       "1270             08.06.2022  ...       Без отзыва                    NaN   \n",
       "1011             08.06.2022  ...       Без отзыва                    NaN   \n",
       "...                     ...  ...              ...                    ...   \n",
       "319              09.09.2022  ...       Без отзыва                    NaN   \n",
       "205              07.09.2022  ...       Без отзыва                    NaN   \n",
       "425              08.09.2022  ...       Без отзыва                    NaN   \n",
       "152              05.09.2022  ...       Без отзыва                    NaN   \n",
       "46               06.09.2022  ...       Без отзыва                    NaN   \n",
       "\n",
       "     Оформил Количество Стоимость доставки для покупателя  \\\n",
       "1059     NaN          1                               0.0   \n",
       "1060     NaN          1                               0.0   \n",
       "1000     NaN          1                               0.0   \n",
       "1270     NaN          1                               0.0   \n",
       "1011     NaN          1                               0.0   \n",
       "...      ...        ...                               ...   \n",
       "319      NaN          1                               0.0   \n",
       "205      NaN          1                               0.0   \n",
       "425      NaN          1                               0.0   \n",
       "152      NaN          1                               0.0   \n",
       "46       NaN          1                               0.0   \n",
       "\n",
       "     Стоимость доставки для продавца Компенсация за доставку  \\\n",
       "1059                          3919.0                     NaN   \n",
       "1060                          3919.0                     NaN   \n",
       "1000                             0.0                     0.0   \n",
       "1270                          3919.0                     NaN   \n",
       "1011                          3919.0                     NaN   \n",
       "...                              ...                     ...   \n",
       "319                              0.0                     NaN   \n",
       "205                              0.0                     NaN   \n",
       "425                              0.0                     NaN   \n",
       "152                              0.0                     NaN   \n",
       "46                               0.0                     NaN   \n",
       "\n",
       "     Требуется подписание Unnamed: 27   Unnamed: 28  \n",
       "1059                  NaN  03.06.2022  12627024_177  \n",
       "1060                  NaN  03.06.2022  12627024_177  \n",
       "1000                  NaN         NaN           NaN  \n",
       "1270                  NaN  03.06.2022  12627024_177  \n",
       "1011                  NaN  02.06.2022  12627024_177  \n",
       "...                   ...         ...           ...  \n",
       "319                   NaN  03.09.2022  14699005_PP1  \n",
       "205                   NaN  02.09.2022  14699005_PP1  \n",
       "425                   NaN  03.09.2022  14699005_PP1  \n",
       "152                   NaN  02.09.2022  14699005_PP1  \n",
       "46                    NaN  03.09.2022  14699005_PP1  \n",
       "\n",
       "[562 rows x 29 columns]"
      ]
     },
     "execution_count": 8,
     "metadata": {},
     "output_type": "execute_result"
    }
   ],
   "source": [
    "df_sold"
   ]
  },
  {
   "cell_type": "code",
   "execution_count": 26,
   "id": "f27dc42a",
   "metadata": {},
   "outputs": [],
   "source": [
    "df_sold_june = df_sold[(datetime(2022, 6, 1) <= df_sold['Дата поступления заказа']) & \n",
    "                      (df_sold['Дата поступления заказа'] < datetime(2022, 7, 1))]"
   ]
  },
  {
   "cell_type": "code",
   "execution_count": 27,
   "id": "967deda0",
   "metadata": {},
   "outputs": [],
   "source": [
    "df_sold_july = df_sold[(datetime(2022, 7, 1) <= df_sold['Дата поступления заказа']) & \n",
    "                      (df_sold['Дата поступления заказа'] < datetime(2022, 8, 1))]"
   ]
  },
  {
   "cell_type": "code",
   "execution_count": 28,
   "id": "31eeca41",
   "metadata": {},
   "outputs": [],
   "source": [
    "df_sold_august = df_sold[(datetime(2022, 8, 1) <= df_sold['Дата поступления заказа']) & \n",
    "                      (df_sold['Дата поступления заказа'] < datetime(2022, 9, 1))]"
   ]
  },
  {
   "cell_type": "code",
   "execution_count": 30,
   "id": "ed52a6e1",
   "metadata": {},
   "outputs": [
    {
     "data": {
      "text/plain": [
       "Red Line Ibox Crystal для Samsung A01 Core прозрачный       22\n",
       "Gree Bora GWH12AAB-K3NNA1A + монтажный комплект             15\n",
       "ALMACOM ACH-12AS белый + медная инсталляция                 14\n",
       "ALMACOM ACH-12AF белый + монтажный комплект                 12\n",
       "Gree-09 Bora GWH09AAA-K3NNA1A белый + монтажный комплект    10\n",
       "ALMACOM AM-12L белый                                         8\n",
       "Gree 24 Fairy Cold Plasma GWH24ACD-K3NNA1A белый             7\n",
       "ALMACOM ACH-07AF белый + монтажный комплект                  7\n",
       "Artel HS 117 RN белый                                        6\n",
       "ALMACOM WH-25CB белый                                        5\n",
       "Name: Название товара в Kaspi Магазине, dtype: int64"
      ]
     },
     "execution_count": 30,
     "metadata": {},
     "output_type": "execute_result"
    }
   ],
   "source": [
    "df_sold_june['Название товара в Kaspi Магазине'].value_counts().nlargest(10)"
   ]
  },
  {
   "cell_type": "code",
   "execution_count": 31,
   "id": "aa7267a9",
   "metadata": {},
   "outputs": [
    {
     "data": {
      "text/plain": [
       "Gree Bora GWH12AAB-K3NNA1A + монтажный комплект          12\n",
       "Red Line Ibox Crystal для Samsung A01 Core прозрачный    11\n",
       "ALMACOM ACH-12AF белый + монтажный комплект              11\n",
       "ALMACOM ACH-12AS белый + медная инсталляция              10\n",
       "ALMACOM ACH-12I белый + монтажный комплект                9\n",
       "ALMACOM AF1D-200 200 л белый                              5\n",
       "Gree GWH28AGEXF-K3NNA1A                                   5\n",
       "ALMACOM AR-50 белый                                       5\n",
       "ALMACOM WH-25CB белый                                     5\n",
       "ALMACOM AF1D-150 150 л белый                              4\n",
       "Name: Название товара в Kaspi Магазине, dtype: int64"
      ]
     },
     "execution_count": 31,
     "metadata": {},
     "output_type": "execute_result"
    }
   ],
   "source": [
    "df_sold_july['Название товара в Kaspi Магазине'].value_counts().nlargest(10)"
   ]
  },
  {
   "cell_type": "code",
   "execution_count": 32,
   "id": "3c5bca10",
   "metadata": {},
   "outputs": [
    {
     "data": {
      "text/plain": [
       "Red Line Ibox Crystal для Samsung A01 Core прозрачный    47\n",
       "ALMACOM AF1D-150 150 л белый                             12\n",
       "GRANDLUX HD 345 RN silver серебристый                     6\n",
       "конвектор ALMACOM PC-27N                                  6\n",
       "Ardesto LESH-Y305 черный                                  6\n",
       "Artel HD 345RN Steel серый                                6\n",
       "ALMACOM WH-25CB белый                                     5\n",
       "инфракрасный обогреватель ALMACOM MH-22H                  3\n",
       "Artel ART WH 2.0 80 Steel                                 3\n",
       "Artel TE-60 L красный                                     3\n",
       "Name: Название товара в Kaspi Магазине, dtype: int64"
      ]
     },
     "execution_count": 32,
     "metadata": {},
     "output_type": "execute_result"
    }
   ],
   "source": [
    "df_sold_august['Название товара в Kaspi Магазине'].value_counts().nlargest(10)"
   ]
  },
  {
   "cell_type": "code",
   "execution_count": null,
   "id": "91085b8c",
   "metadata": {},
   "outputs": [],
   "source": []
  },
  {
   "cell_type": "code",
   "execution_count": null,
   "id": "f680685a",
   "metadata": {},
   "outputs": [],
   "source": []
  },
  {
   "cell_type": "code",
   "execution_count": 1,
   "id": "18c0fea4",
   "metadata": {},
   "outputs": [],
   "source": [
    "from selenium import webdriver\n",
    "from selenium.webdriver.support import expected_conditions as EC\n",
    "from selenium.webdriver.common.by import By\n",
    "from selenium.webdriver.support.ui import WebDriverWait\n",
    "\n",
    "import re"
   ]
  },
  {
   "cell_type": "code",
   "execution_count": 2,
   "id": "df35ac83",
   "metadata": {},
   "outputs": [],
   "source": [
    "driver = webdriver.Firefox()"
   ]
  },
  {
   "cell_type": "code",
   "execution_count": null,
   "id": "f8547642",
   "metadata": {},
   "outputs": [],
   "source": [
    "'sellers-table__buy-cell-button.button'"
   ]
  },
  {
   "cell_type": "code",
   "execution_count": 13,
   "id": "bbb410c9",
   "metadata": {},
   "outputs": [
    {
     "data": {
      "text/plain": [
       "<selenium.webdriver.remote.webelement.WebElement (session=\"0063b9c4-792b-47fa-80de-5ad0f6f980d0\", element=\"c9899f8d-3948-48ae-a1c3-efd59a36da02\")>"
      ]
     },
     "execution_count": 13,
     "metadata": {},
     "output_type": "execute_result"
    }
   ],
   "source": [
    "WebDriverWait(driver, 5).until(EC.element_to_be_clickable((By.XPATH, '//tbody/tr[1]/td[7]/div[1]/div[1]')))"
   ]
  },
  {
   "cell_type": "code",
   "execution_count": 14,
   "id": "f760b984",
   "metadata": {},
   "outputs": [],
   "source": [
    "a = WebDriverWait(driver, 5).until(EC.visibility_of_element_located((By.XPATH, '//tbody')))"
   ]
  },
  {
   "cell_type": "code",
   "execution_count": 22,
   "id": "e74fdad7",
   "metadata": {},
   "outputs": [],
   "source": [
    "html = a.get_attribute('innerHTML')"
   ]
  },
  {
   "cell_type": "code",
   "execution_count": 77,
   "id": "60dd34fd",
   "metadata": {},
   "outputs": [
    {
     "name": "stdout",
     "output_type": "stream",
     "text": [
      "https://kaspi.kz/shop/info/merchant/nemo/address-tab/\n",
      "NEMO-KZ\n",
      "20348\n",
      "\n",
      "https://kaspi.kz/shop/info/merchant/9755036/address-tab/\n",
      "Meta-\n",
      "20352\n",
      "\n",
      "https://kaspi.kz/shop/info/merchant/6715000/address-tab/\n",
      "ASAstyle\n",
      "20360\n",
      "\n",
      "https://kaspi.kz/shop/info/merchant/telenova/address-tab/\n",
      "Telenova\n",
      "20400\n",
      "\n",
      "https://kaspi.kz/shop/info/merchant/528028/address-tab/\n",
      "Discount Shop\n",
      "20490\n",
      "\n"
     ]
    }
   ],
   "source": [
    "row = re.finditer('<tr>', html)\n",
    "for r in row:\n",
    "    r = html[r.span()[0]:]\n",
    "    href = 'https://kaspi.kz' + r[r.find('href'):r.find('?')][6:]\n",
    "    name = r.split('\">')[2].split('<')[0]\n",
    "    price = int(r.split('sellers-table__price-cell-text\">')[1].split(' ')[0].replace('&nbsp;', ''))\n",
    "    print(href)\n",
    "    print(name)\n",
    "    print(price)\n",
    "    print()"
   ]
  },
  {
   "cell_type": "code",
   "execution_count": 78,
   "id": "aeb9ca5c",
   "metadata": {},
   "outputs": [],
   "source": []
  },
  {
   "cell_type": "code",
   "execution_count": 80,
   "id": "030d18d1",
   "metadata": {},
   "outputs": [
    {
     "data": {
      "text/plain": [
       "'pagination__el'"
      ]
     },
     "execution_count": 80,
     "metadata": {},
     "output_type": "execute_result"
    }
   ],
   "source": []
  },
  {
   "cell_type": "code",
   "execution_count": 4,
   "id": "d5b40ed4",
   "metadata": {},
   "outputs": [
    {
     "data": {
      "text/plain": [
       "'pagination__el'"
      ]
     },
     "execution_count": 4,
     "metadata": {},
     "output_type": "execute_result"
    }
   ],
   "source": [
    "v = WebDriverWait(driver, 5).until(EC.visibility_of_element_located((By.XPATH, \"//li[contains(text(),'Следующая')]\")))\n",
    "v.click()\n",
    "v.get_attribute('class')"
   ]
  },
  {
   "cell_type": "code",
   "execution_count": null,
   "id": "eeeab13c",
   "metadata": {},
   "outputs": [],
   "source": []
  }
 ],
 "metadata": {
  "kernelspec": {
   "display_name": "Python 3 (ipykernel)",
   "language": "python",
   "name": "python3"
  },
  "language_info": {
   "codemirror_mode": {
    "name": "ipython",
    "version": 3
   },
   "file_extension": ".py",
   "mimetype": "text/x-python",
   "name": "python",
   "nbconvert_exporter": "python",
   "pygments_lexer": "ipython3",
   "version": "3.9.7"
  },
  "toc": {
   "base_numbering": 1,
   "nav_menu": {},
   "number_sections": true,
   "sideBar": true,
   "skip_h1_title": false,
   "title_cell": "Table of Contents",
   "title_sidebar": "Contents",
   "toc_cell": false,
   "toc_position": {},
   "toc_section_display": true,
   "toc_window_display": false
  }
 },
 "nbformat": 4,
 "nbformat_minor": 5
}
